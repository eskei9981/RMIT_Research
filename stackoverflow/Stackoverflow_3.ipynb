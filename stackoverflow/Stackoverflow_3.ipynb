```
#!pip install pandas_gbq
import pandas as pd

project_id = 'test-pj-sunkyung'
query = 'select title, accepted_answer_id, answer_count, comment_count, favorite_count, score, tags, view_count \
         from `bigquery-public-data.stackoverflow.posts_questions` \
         where answer_count > 0 \
         order by view_count desc \
         limit 100'

question_df = pd.read_gbq(project_id=project_id, query=query, dialect='standard')
print(question_df.head)
```
```
<bound method NDFrame.head of                                                 title  accepted_answer_id  \
0   How do I undo the most recent local commits in...            927386.0   
1   How do I delete a Git branch locally and remot...           2003515.0   
2   How do I remove a particular element from an a...           5767357.0   
3   How do I find all files containing specific te...          16957078.0   
4               How do I redirect to another webpage?            506004.0   
..                                                ...                 ...   
95              How to resolve merge conflicts in Git            163659.0   
96  How to change an element's class with JavaScript?            196038.0   
97  What does "Could not find or load main class" ...          18093929.0   
98  How to align a <div> to the middle (horizontal...            953934.0   
99       How do I get the current date in JavaScript?           4929629.0   

    answer_count  comment_count  favorite_count  score  \
0             80              9            6547  19971   
1             38              2            5070  15730   
2             81              6            1171   7382   
3             42              6            2428   4710   
4             58             10            2140   7728   
..           ...            ...             ...    ...   
95            34             13            1565   4503   
96            29              4             704   2587   
97            45              1             435   1221   
98            27              0             185    791   
99            46              9             345   2069   

                                                 tags  view_count  
0                    gitversion-controlgit-commitundo     8083391  
1                             gitgit-branchgit-remote     7334016  
2                                    javascriptarrays     5920663  
3                          linuxtextgrepdirectoryfind     5890525  
4                            javascriptjqueryredirect     5820050  
..                                                ...         ...  
95  gitgit-mergemerge-conflict-resolutiongit-merge...     2418738  
96                                  javascripthtmldom     2411459  
97                                      javaclassmain     2406218  
98                             csshtmlalignmentcenter     2393043  
99                                     javascriptdate     2385206  

[100 rows x 8 columns]>
```

```
import numpy as np
import nltk
import re
import os
import codecs
from sklearn import feature_extraction

# https://www.geeksforgeeks.org/removing-stop-words-nltk-python/
# nltk.download('stopwords')
# nltk.download('punkt')

stopwords = nltk.corpus.stopwords.words('english')
# print (stopwords[:10])

from nltk.stem.snowball import SnowballStemmer
stemmer = SnowballStemmer("english")

question_df['tokenized_sents'] = question_df.apply(lambda row: nltk.word_tokenize(row['title']), axis=1)
print (question_df.head)
```
```
<bound method NDFrame.head of                                                 title  accepted_answer_id  \
0   How do I undo the most recent local commits in...            927386.0   
1   How do I delete a Git branch locally and remot...           2003515.0   
2   How do I remove a particular element from an a...           5767357.0   
3   How do I find all files containing specific te...          16957078.0   
4               How do I redirect to another webpage?            506004.0   
..                                                ...                 ...   
95              How to resolve merge conflicts in Git            163659.0   
96  How to change an element's class with JavaScript?            196038.0   
97  What does "Could not find or load main class" ...          18093929.0   
98  How to align a <div> to the middle (horizontal...            953934.0   
99       How do I get the current date in JavaScript?           4929629.0   

    answer_count  comment_count  favorite_count  score  \
0             80              9            6547  19971   
1             38              2            5070  15730   
2             81              6            1171   7382   
3             42              6            2428   4710   
4             58             10            2140   7728   
..           ...            ...             ...    ...   
95            34             13            1565   4503   
96            29              4             704   2587   
97            45              1             435   1221   
98            27              0             185    791   
99            46              9             345   2069   

                                                 tags  view_count  \
0                    gitversion-controlgit-commitundo     8083391   
1                             gitgit-branchgit-remote     7334016   
2                                    javascriptarrays     5920663   
3                          linuxtextgrepdirectoryfind     5890525   
4                            javascriptjqueryredirect     5820050   
..                                                ...         ...   
95  gitgit-mergemerge-conflict-resolutiongit-merge...     2418738   
96                                  javascripthtmldom     2411459   
97                                      javaclassmain     2406218   
98                             csshtmlalignmentcenter     2393043   
99                                     javascriptdate     2385206   

                                      tokenized_sents  
0   [How, do, I, undo, the, most, recent, local, c...  
1   [How, do, I, delete, a, Git, branch, locally, ...  
2   [How, do, I, remove, a, particular, element, f...  
3   [How, do, I, find, all, files, containing, spe...  
4     [How, do, I, redirect, to, another, webpage, ?]  
..                                                ...  
95      [How, to, resolve, merge, conflicts, in, Git]  
96  [How, to, change, an, element, 's, class, with...  
97  [What, does, ``, Could, not, find, or, load, m...  
98  [How, to, align, a, <, div, >, to, the, middle...  
99  [How, do, I, get, the, current, date, in, Java...  

[100 rows x 9 columns]>
```

```
def tokenize_and_stem(text):
    # first tokenize by sentence, then by word to ensure that punctuation is caught as it's own token
    tokens = [word for sent in nltk.sent_tokenize(text) for word in nltk.word_tokenize(sent)]
    filtered_tokens = []
    # filter out any tokens not containing letters (e.g., numeric tokens, raw punctuation)
    for token in tokens:
        if re.search('[a-zA-Z]', token):
            filtered_tokens.append(token)
    stems = [stemmer.stem(t) for t in filtered_tokens]
    return stems



from sklearn.feature_extraction.text import TfidfVectorizer

#tfidf_vectorizer = TfidfVectorizer()
tfidf_vectorizer = TfidfVectorizer(max_features=200000, stop_words='english', tokenizer=tokenize_and_stem)
#tfidf_vectorizer = TfidfVectorizer(max_df=0.8, max_features=200000,
#                                 min_df=0.2, stop_words='english',
#                                 use_idf=True, tokenizer=tokenize_and_stem, ngram_range=(1,3))
tfidf_matrix = tfidf_vectorizer.fit_transform(question_df['title'])

#print(tfidf_vectorizer.get_feature_names())
print(tfidf_matrix.shape)

terms = tfidf_vectorizer.get_feature_names()
print(terms)
```
```
(100, 230)
["'s", '__main__', '__name__', 'access-control-allow-origin', 'act', 'add', 'address', 'align', 'alreadi', 'anoth', 'append', 'array', 'arraylist', 'bash', 'befor', 'best', 'branch', 'button', 'c++', 'ca', 'case', 'center', 'chang', 'check', 'checkbox', 'class', 'clone', 'code', 'column', 'command', 'comment', 'commit', 'compar', 'concaten', 'conflict', 'contain', 'content', 'convert', 'correct', 'creat', 'css', 'curl', 'current', 'data', 'datatyp', 'date', 'datetim', 'decim', 'declar', 'default', 'delay', 'delet', 'determin', 'dictionari', 'differ', 'directori', 'display', 'div', 'doe', 'dropdown', 'duplic', 'easiest', 'element', 'els', 'email', 'empty/undefined/nul', 'encount', 'end', 'error', 'exist', 'express', 'extend', 'extern', 'fetch', 'file', 'fix', 'float', 'folder', 'for-each', 'forc', 'format', 'function', 'generat', 'git', 'given', 'global', 'hard', 'hashmap', 'head', 'header', 'hidden', 'horizont', 'horizontally/width', 'html', 'import', 'includ', 'index', 'initi', 'insert', 'instal', 'instead', 'int', 'integ', 'item', 'iter', 'java', 'javascript', 'jqueri', 'json', 'just', 'key', 'like', 'limit', 'line', 'line-by-lin', 'link', 'linux', 'list', 'listen', 'load', 'local', 'loop', 'main', 'make', 'match', 'mean', 'merg', 'messag', 'method', 'middl', 'modifi', 'multipl', 'mysql', "n't", 'nbsp', 'new', 'non-break', 'nullpointerexcept', 'number', 'occurr', 'onli', 'open', 'origin', 'overwrit', 'page', 'pars', 'particular', 'perform', 'permiss', 'php', 'pip', 'point', 'port', 'post', 'postman', 'powershel', 'present', 'previous', 'process', 'pull', 'push', 'python', 'queri', 'random', 'rang', 'read', 'recent', 'redirect', 'regex', 'regular', 'remot', 'remov', 'renam', 'replac', 'repositori', 'request', 'reset', 'resolv', 'resourc', 'rest', 'return', 'revert', 'row', 'script', 'select', 'self-contain', 'server', 'set', 'shell', 'singl', 'someth', 'sourc', 'space', 'specif', 'split', 'spring', 'sql', 'step', 'string', 'subfold', 'substr', 'support', 'tab', 'tabl', 'tag', 'terminal/commandlin', 'test', 'text', 'time', 'timestamp', 'track', 'type', 'undo', 'unpush', 'updat', 'url', 'use', 'valid', 'valu', 'variabl', 'version', 'vertic', 'way', 'webpag', 'whi', 'window', 'word', 'work', 'write', 'xhtml']
```

```
from sklearn.metrics.pairwise import cosine_similarity
dist = 1 - cosine_similarity(tfidf_matrix)
```
```
from sklearn.cluster import KMeans

num_clusters = 10

km = KMeans(n_clusters=num_clusters)

%time km.fit(tfidf_matrix)

clusters = km.labels_.tolist()
```
```
CPU times: user 160 ms, sys: 4.22 ms, total: 164 ms
Wall time: 173 ms
```

```
import pickle
import joblib

s = pickle.dumps(km)
km2 = pickle.loads(s)

clusters = km2.labels_.tolist()
```
```
title_list = question_df['title'].values.tolist()
tag_list = question_df['tags'].values.tolist()
view_cnt_list = question_df['view_count'].values.tolist()
answer_cnt_list = question_df['answer_count'].values.tolist()
comment_cnt_list = question_df['comment_count'].values.tolist()
favorite_cnt_list = question_df['favorite_count'].values.tolist()
score_list = question_df['score'].values.tolist()

#select title, accepted_answer_id, answer_count, comment_count, favorite_count, score, tags, view_count
questions = {'cluster': clusters, 'title': title_list, 'tag': tag_list, 'view_count': view_cnt_list, 'answer_count': answer_cnt_list, 'comment_count': comment_cnt_list, 'favorite_count': favorite_cnt_list, 'score': score_list}

frame = pd.DataFrame(questions, index = [clusters] , columns = ['cluster', 'title', 'tag', 'view_count', 'answer_count', 'comment_count', 'favorite_count', 'score'])
print (frame.head)

# number of quesions per cluster
frame['cluster'].value_counts()
```

```
<bound method NDFrame.head of     cluster                                              title  \
1         1  How do I undo the most recent local commits in...   
1         1  How do I delete a Git branch locally and remot...   
2         2  How do I remove a particular element from an a...   
9         9  How do I find all files containing specific te...   
0         0              How do I redirect to another webpage?   
..      ...                                                ...   
1         1              How to resolve merge conflicts in Git   
5         5  How to change an element's class with JavaScript?   
8         8  What does "Could not find or load main class" ...   
0         0  How to align a <div> to the middle (horizontal...   
3         3       How do I get the current date in JavaScript?   

                                                  tag  view_count  \
1                    gitversion-controlgit-commitundo     8083391   
1                             gitgit-branchgit-remote     7334016   
2                                    javascriptarrays     5920663   
9                          linuxtextgrepdirectoryfind     5890525   
0                            javascriptjqueryredirect     5820050   
..                                                ...         ...   
1   gitgit-mergemerge-conflict-resolutiongit-merge...     2418738   
5                                   javascripthtmldom     2411459   
8                                       javaclassmain     2406218   
0                              csshtmlalignmentcenter     2393043   
3                                      javascriptdate     2385206   

    answer_count  comment_count  favorite_count  score  
1             80              9            6547  19971  
1             38              2            5070  15730  
2             81              6            1171   7382  
9             42              6            2428   4710  
0             58             10            2140   7728  
..           ...            ...             ...    ...  
1             34             13            1565   4503  
5             29              4             704   2587  
8             45              1             435   1221  
0             27              0             185    791  
3             46              9             345   2069  

[100 rows x 8 columns]>
0    23
1    13
9    11
2    11
8    10
4     9
6     7
5     6
3     6
7     4
Name: cluster, dtype: int64
```

```
grouped_view_cnt = frame['view_count'].groupby(frame['cluster'])
grouped_view_cnt.sum()
```
```
cluster
0    68246487
1    48599829
2    37764371
3    16471708
4    27013184
5    19846812
6    24831683
7    15568958
8    34386112
9    37719828
Name: view_count, dtype: int64
```

```
grouped_answer_cnt = frame['answer_count'].groupby(frame['cluster'])
grouped_answer_cnt.sum()
```
```
cluster
0    1214
1     401
2     456
3     180
4     284
5     229
6     218
7     118
8     255
9     324
Name: answer_count, dtype: int64
```

```
from __future__ import print_function

print("Top terms per cluster:")
print()
#sort cluster centers by proximity to centroid
order_centroids = km2.cluster_centers_.argsort()[:, ::-1] 
print(order_centroids)

for i in range(num_clusters):
    print("Cluster %d words:" % i, end='')
    
    for ind in order_centroids[i, :6]:
        #print("ind=%d" % ind)
        #print("terms[ind]= %s" % terms[ind])
        print(' %s' % terms[ind], end='')
        
    print()
    print()
    
    print("Cluster %d titles:" % i, end='')
    for title in frame.loc[i]['title'].values.tolist():
        print(' %s,' % title, end='')
    print()
    print()
```

```

Top terms per cluster:

[[149 167  99 ... 132 131   0]
 [ 83 120  16 ... 138 137   0]
 [106  11 121 ... 142 141   0]
 ...
 [105  39 198 ... 146 145   0]
 [ 35  58 200 ... 143 142 114]
 [ 74  55 117 ... 128 127 229]]
Cluster 0 words: php redirect instal center window page

Cluster 0 titles: How do I redirect to another webpage?, How to horizontally center a <div>?, Iterate through a HashMap, Redirect from an HTML page, Add new keys to a dictionary?, How to replace all occurrences of a string?, How do I vertically center text with CSS?, Using global variables in a function, What is the best comment in source code you have ever encountered?, How do I install pip on Windows?, Initialization of an ArrayList in one line, How do I get PHP errors to display?, Determine installed PowerShell version, How can you find out which process is listening on a port on Windows?, Limiting floats to two decimal points, Get the full URL in PHP, How do I make a redirect in PHP?, RegEx match open tags except XHTML self-contained tags, What is the correct JSON content type?, How do I POST JSON data with Curl from a terminal/commandline to Test Spring REST?, What is a NullPointerException, and how do I fix it?, How to modify existing, unpushed commit messages?, How to align a <div> to the middle (horizontally/width) of the page,

Cluster 1 words: git local branch repositori commit remot

Cluster 1 titles: How do I undo the most recent local commits in Git?, How do I delete a Git branch locally and remotely?, How do I revert a Git repository to a previous commit?, How do I force "git pull" to overwrite local files?, How do I push a new local branch to a remote Git repository and track it too?, How do I clone a specific Git branch?, How do I undo 'git add' before commit?, Reset local repository branch to be just like remote repository HEAD, What is the difference between 'git pull' and 'git fetch'?, How do I rename a local Git branch?, How do I use 'git reset --hard HEAD' to revert to a previous commit?, How can I determine the URL that a local Git repository was originally cloned from?, How to resolve merge conflicts in Git,

Cluster 2 words: javascript array loop timestamp java for-each

Cluster 2 titles: How do I remove a particular element from an array in JavaScript?, How do I declare and initialize an array in Java?, Iterating over dictionaries using 'for' loops, For-each over an array in JavaScript?, Loop through an array in JavaScript, How to format a JavaScript date, How to append something to an array?, How to validate an email address in JavaScript, How do you get a timestamp in JavaScript?, How to check empty/undefined/null string in JavaScript?, How does the Java 'for each' loop work?,

Cluster 3 words: current python time javascript extern date

Cluster 3 titles: Calling an external command in Python, How to get the current time in Python, How can I make a time delay in Python?, Get the current URL with JavaScript?, Why can't Python parse this JSON data?, How do I get the current date in JavaScript?,

Cluster 4 words: sql server valu select queri tabl

Cluster 4 titles: How do I UPDATE from a SELECT in SQL Server?, How can I get query string values in JavaScript?, How do I perform an IF...THEN in an SQL SELECT?, SQL Server: CASE WHEN OR THEN ELSE END => the OR is not supported, Tab space instead of multiple non-breaking spaces ("nbsp")?, Add a column with a default value to an existing table in SQL Server, How to return only the Date from a SQL Server DateTime datatype, Finding duplicate values in a SQL table, Inserting multiple rows in a single SQL query?,

Cluster 5 words: check jqueri checkbox element hidden set

Cluster 5 titles: How do I check out a remote Git branch?, How to check whether a checkbox is checked in jQuery?, Setting "checked" for a checkbox with jQuery?, Check if a given key already exists in a dictionary, How do I check if an element is hidden in jQuery?, How to change an element's class with JavaScript?,

Cluster 6 words: string convert int integ java datetim

Cluster 6 titles: How do I convert a String to an int in Java?, How do I generate random integers within a specific range in Java?, How do I parse a string to a float or int?, How to concatenate string variables in Bash, Converting integer to string?, Easiest way to convert int to string in C++, Converting string into datetime,

Cluster 7 words: java creat string split compar write

Cluster 7 titles: How to create an HTML button that acts like a link?, How do I compare strings in Java?, How to split a string in Java, How do I create a file and write to it in Java?,

Cluster 8 words: contain doe substr python string word

Cluster 8 titles: How to check whether a string contains a substring in JavaScript?, How do I check if a string contains a specific word?, Why does my JavaScript code get a "No 'Access-Control-Allow-Origin' header is present on the requested resource" error when Postman does not?, Does Python have a string 'contains' substring method?, Finding the index of an item given a list containing it in Python, Regular expression to match a line that doesn't contain a word, What is the difference between Python's list methods append and extend?, How to substring a string in Python?, What does if __name__ == "__main__": do?, What does "Could not find or load main class" mean?,

Cluster 9 words: file directori list exist check linux

Cluster 9 titles: How do I find all files containing specific text on Linux?, How do I change permissions for a folder and all of its subfolders and files in one step in Linux?, Get selected value in dropdown list using JavaScript, How do I check whether a file exists without exceptions?, How do I list all files of a directory?, How to read a file line-by-line into a list?, How do I get the number of elements in a list?, How do I import an SQL file using the command line in MySQL?, How do I include a JavaScript file in another JavaScript file?, Check if a directory exists in a shell script, Find current directory and file's directory,
```
