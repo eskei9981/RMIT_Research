{
 "cells": [
  {
   "cell_type": "code",
   "execution_count": 22,
   "metadata": {},
   "outputs": [
    {
     "name": "stdout",
     "output_type": "stream",
     "text": [
      "<bound method NDFrame.head of                                                 title  accepted_answer_id  \\\n",
      "0   How do I undo the most recent local commits in...            927386.0   \n",
      "1   How do I delete a Git branch locally and remot...           2003515.0   \n",
      "2   How do I remove a particular element from an a...           5767357.0   \n",
      "3   How do I find all files containing specific te...          16957078.0   \n",
      "4               How do I redirect to another webpage?            506004.0   \n",
      "..                                                ...                 ...   \n",
      "95              How to resolve merge conflicts in Git            163659.0   \n",
      "96  How to change an element's class with JavaScript?            196038.0   \n",
      "97  What does \"Could not find or load main class\" ...          18093929.0   \n",
      "98  How to align a <div> to the middle (horizontal...            953934.0   \n",
      "99       How do I get the current date in JavaScript?           4929629.0   \n",
      "\n",
      "    answer_count  comment_count  favorite_count  score  \\\n",
      "0             80              9            6547  19971   \n",
      "1             38              2            5070  15730   \n",
      "2             81              6            1171   7382   \n",
      "3             42              6            2428   4710   \n",
      "4             58             10            2140   7728   \n",
      "..           ...            ...             ...    ...   \n",
      "95            34             13            1565   4503   \n",
      "96            29              4             704   2587   \n",
      "97            45              1             435   1221   \n",
      "98            27              0             185    791   \n",
      "99            46              9             345   2069   \n",
      "\n",
      "                                                 tags  view_count  \n",
      "0                    gitversion-controlgit-commitundo     8083391  \n",
      "1                             gitgit-branchgit-remote     7334016  \n",
      "2                                    javascriptarrays     5920663  \n",
      "3                          linuxtextgrepdirectoryfind     5890525  \n",
      "4                            javascriptjqueryredirect     5820050  \n",
      "..                                                ...         ...  \n",
      "95  gitgit-mergemerge-conflict-resolutiongit-merge...     2418738  \n",
      "96                                  javascripthtmldom     2411459  \n",
      "97                                      javaclassmain     2406218  \n",
      "98                             csshtmlalignmentcenter     2393043  \n",
      "99                                     javascriptdate     2385206  \n",
      "\n",
      "[100 rows x 8 columns]>\n"
     ]
    }
   ],
   "source": [
    "#!pip install pandas_gbq\n",
    "import pandas as pd\n",
    "\n",
    "project_id = 'test-pj-sunkyung'\n",
    "query = 'select title, accepted_answer_id, answer_count, comment_count, favorite_count, score, tags, view_count \\\n",
    "         from `bigquery-public-data.stackoverflow.posts_questions` \\\n",
    "         where answer_count > 0 \\\n",
    "         order by view_count desc \\\n",
    "         limit 100'\n",
    "\n",
    "question_df = pd.read_gbq(project_id=project_id, query=query, dialect='standard')\n",
    "print(question_df.head)"
   ]
  },
  {
   "cell_type": "code",
   "execution_count": 23,
   "metadata": {},
   "outputs": [
    {
     "name": "stdout",
     "output_type": "stream",
     "text": [
      "<bound method NDFrame.head of                                                 title  accepted_answer_id  \\\n",
      "0   How do I undo the most recent local commits in...            927386.0   \n",
      "1   How do I delete a Git branch locally and remot...           2003515.0   \n",
      "2   How do I remove a particular element from an a...           5767357.0   \n",
      "3   How do I find all files containing specific te...          16957078.0   \n",
      "4               How do I redirect to another webpage?            506004.0   \n",
      "..                                                ...                 ...   \n",
      "95              How to resolve merge conflicts in Git            163659.0   \n",
      "96  How to change an element's class with JavaScript?            196038.0   \n",
      "97  What does \"Could not find or load main class\" ...          18093929.0   \n",
      "98  How to align a <div> to the middle (horizontal...            953934.0   \n",
      "99       How do I get the current date in JavaScript?           4929629.0   \n",
      "\n",
      "    answer_count  comment_count  favorite_count  score  \\\n",
      "0             80              9            6547  19971   \n",
      "1             38              2            5070  15730   \n",
      "2             81              6            1171   7382   \n",
      "3             42              6            2428   4710   \n",
      "4             58             10            2140   7728   \n",
      "..           ...            ...             ...    ...   \n",
      "95            34             13            1565   4503   \n",
      "96            29              4             704   2587   \n",
      "97            45              1             435   1221   \n",
      "98            27              0             185    791   \n",
      "99            46              9             345   2069   \n",
      "\n",
      "                                                 tags  view_count  \\\n",
      "0                    gitversion-controlgit-commitundo     8083391   \n",
      "1                             gitgit-branchgit-remote     7334016   \n",
      "2                                    javascriptarrays     5920663   \n",
      "3                          linuxtextgrepdirectoryfind     5890525   \n",
      "4                            javascriptjqueryredirect     5820050   \n",
      "..                                                ...         ...   \n",
      "95  gitgit-mergemerge-conflict-resolutiongit-merge...     2418738   \n",
      "96                                  javascripthtmldom     2411459   \n",
      "97                                      javaclassmain     2406218   \n",
      "98                             csshtmlalignmentcenter     2393043   \n",
      "99                                     javascriptdate     2385206   \n",
      "\n",
      "                                      tokenized_sents  \n",
      "0   [How, do, I, undo, the, most, recent, local, c...  \n",
      "1   [How, do, I, delete, a, Git, branch, locally, ...  \n",
      "2   [How, do, I, remove, a, particular, element, f...  \n",
      "3   [How, do, I, find, all, files, containing, spe...  \n",
      "4     [How, do, I, redirect, to, another, webpage, ?]  \n",
      "..                                                ...  \n",
      "95      [How, to, resolve, merge, conflicts, in, Git]  \n",
      "96  [How, to, change, an, element, 's, class, with...  \n",
      "97  [What, does, ``, Could, not, find, or, load, m...  \n",
      "98  [How, to, align, a, <, div, >, to, the, middle...  \n",
      "99  [How, do, I, get, the, current, date, in, Java...  \n",
      "\n",
      "[100 rows x 9 columns]>\n"
     ]
    }
   ],
   "source": [
    "import numpy as np\n",
    "import nltk\n",
    "import re\n",
    "import os\n",
    "import codecs\n",
    "from sklearn import feature_extraction\n",
    "\n",
    "# https://www.geeksforgeeks.org/removing-stop-words-nltk-python/\n",
    "# nltk.download('stopwords')\n",
    "# nltk.download('punkt')\n",
    "\n",
    "stopwords = nltk.corpus.stopwords.words('english')\n",
    "# print (stopwords[:10])\n",
    "\n",
    "from nltk.stem.snowball import SnowballStemmer\n",
    "stemmer = SnowballStemmer(\"english\")\n",
    "\n",
    "question_df['tokenized_sents'] = question_df.apply(lambda row: nltk.word_tokenize(row['title']), axis=1)\n",
    "print (question_df.head)"
   ]
  },
  {
   "cell_type": "code",
   "execution_count": 42,
   "metadata": {},
   "outputs": [
    {
     "name": "stdout",
     "output_type": "stream",
     "text": [
      "(100, 230)\n",
      "[\"'s\", '__main__', '__name__', 'access-control-allow-origin', 'act', 'add', 'address', 'align', 'alreadi', 'anoth', 'append', 'array', 'arraylist', 'bash', 'befor', 'best', 'branch', 'button', 'c++', 'ca', 'case', 'center', 'chang', 'check', 'checkbox', 'class', 'clone', 'code', 'column', 'command', 'comment', 'commit', 'compar', 'concaten', 'conflict', 'contain', 'content', 'convert', 'correct', 'creat', 'css', 'curl', 'current', 'data', 'datatyp', 'date', 'datetim', 'decim', 'declar', 'default', 'delay', 'delet', 'determin', 'dictionari', 'differ', 'directori', 'display', 'div', 'doe', 'dropdown', 'duplic', 'easiest', 'element', 'els', 'email', 'empty/undefined/nul', 'encount', 'end', 'error', 'exist', 'express', 'extend', 'extern', 'fetch', 'file', 'fix', 'float', 'folder', 'for-each', 'forc', 'format', 'function', 'generat', 'git', 'given', 'global', 'hard', 'hashmap', 'head', 'header', 'hidden', 'horizont', 'horizontally/width', 'html', 'import', 'includ', 'index', 'initi', 'insert', 'instal', 'instead', 'int', 'integ', 'item', 'iter', 'java', 'javascript', 'jqueri', 'json', 'just', 'key', 'like', 'limit', 'line', 'line-by-lin', 'link', 'linux', 'list', 'listen', 'load', 'local', 'loop', 'main', 'make', 'match', 'mean', 'merg', 'messag', 'method', 'middl', 'modifi', 'multipl', 'mysql', \"n't\", 'nbsp', 'new', 'non-break', 'nullpointerexcept', 'number', 'occurr', 'onli', 'open', 'origin', 'overwrit', 'page', 'pars', 'particular', 'perform', 'permiss', 'php', 'pip', 'point', 'port', 'post', 'postman', 'powershel', 'present', 'previous', 'process', 'pull', 'push', 'python', 'queri', 'random', 'rang', 'read', 'recent', 'redirect', 'regex', 'regular', 'remot', 'remov', 'renam', 'replac', 'repositori', 'request', 'reset', 'resolv', 'resourc', 'rest', 'return', 'revert', 'row', 'script', 'select', 'self-contain', 'server', 'set', 'shell', 'singl', 'someth', 'sourc', 'space', 'specif', 'split', 'spring', 'sql', 'step', 'string', 'subfold', 'substr', 'support', 'tab', 'tabl', 'tag', 'terminal/commandlin', 'test', 'text', 'time', 'timestamp', 'track', 'type', 'undo', 'unpush', 'updat', 'url', 'use', 'valid', 'valu', 'variabl', 'version', 'vertic', 'way', 'webpag', 'whi', 'window', 'word', 'work', 'write', 'xhtml']\n"
     ]
    },
    {
     "name": "stderr",
     "output_type": "stream",
     "text": [
      "/usr/local/anaconda3/lib/python3.7/site-packages/sklearn/feature_extraction/text.py:300: UserWarning: Your stop_words may be inconsistent with your preprocessing. Tokenizing the stop words generated tokens ['abov', 'afterward', 'alon', 'alreadi', 'alway', 'ani', 'anoth', 'anyon', 'anyth', 'anywher', 'becam', 'becaus', 'becom', 'befor', 'besid', 'cri', 'describ', 'dure', 'els', 'elsewher', 'empti', 'everi', 'everyon', 'everyth', 'everywher', 'fifti', 'forti', 'henc', 'hereaft', 'herebi', 'howev', 'hundr', 'inde', 'mani', 'meanwhil', 'moreov', 'nobodi', 'noon', 'noth', 'nowher', 'onc', 'onli', 'otherwis', 'ourselv', 'perhap', 'pleas', 'sever', 'sinc', 'sincer', 'sixti', 'someon', 'someth', 'sometim', 'somewher', 'themselv', 'thenc', 'thereaft', 'therebi', 'therefor', 'togeth', 'twelv', 'twenti', 'veri', 'whatev', 'whenc', 'whenev', 'wherea', 'whereaft', 'wherebi', 'wherev', 'whi', 'yourselv'] not in stop_words.\n",
      "  'stop_words.' % sorted(inconsistent))\n"
     ]
    }
   ],
   "source": [
    "def tokenize_and_stem(text):\n",
    "    # first tokenize by sentence, then by word to ensure that punctuation is caught as it's own token\n",
    "    tokens = [word for sent in nltk.sent_tokenize(text) for word in nltk.word_tokenize(sent)]\n",
    "    filtered_tokens = []\n",
    "    # filter out any tokens not containing letters (e.g., numeric tokens, raw punctuation)\n",
    "    for token in tokens:\n",
    "        if re.search('[a-zA-Z]', token):\n",
    "            filtered_tokens.append(token)\n",
    "    stems = [stemmer.stem(t) for t in filtered_tokens]\n",
    "    return stems\n",
    "\n",
    "\n",
    "\n",
    "from sklearn.feature_extraction.text import TfidfVectorizer\n",
    "\n",
    "#tfidf_vectorizer = TfidfVectorizer()\n",
    "tfidf_vectorizer = TfidfVectorizer(max_features=200000, stop_words='english', tokenizer=tokenize_and_stem)\n",
    "#tfidf_vectorizer = TfidfVectorizer(max_df=0.8, max_features=200000,\n",
    "#                                 min_df=0.2, stop_words='english',\n",
    "#                                 use_idf=True, tokenizer=tokenize_and_stem, ngram_range=(1,3))\n",
    "tfidf_matrix = tfidf_vectorizer.fit_transform(question_df['title'])\n",
    "\n",
    "#print(tfidf_vectorizer.get_feature_names())\n",
    "print(tfidf_matrix.shape)\n",
    "\n",
    "terms = tfidf_vectorizer.get_feature_names()\n",
    "print(terms)"
   ]
  },
  {
   "cell_type": "code",
   "execution_count": 43,
   "metadata": {},
   "outputs": [],
   "source": [
    "from sklearn.metrics.pairwise import cosine_similarity\n",
    "dist = 1 - cosine_similarity(tfidf_matrix)"
   ]
  },
  {
   "cell_type": "code",
   "execution_count": 44,
   "metadata": {},
   "outputs": [
    {
     "name": "stdout",
     "output_type": "stream",
     "text": [
      "CPU times: user 160 ms, sys: 4.22 ms, total: 164 ms\n",
      "Wall time: 173 ms\n"
     ]
    }
   ],
   "source": [
    "from sklearn.cluster import KMeans\n",
    "\n",
    "num_clusters = 10\n",
    "\n",
    "km = KMeans(n_clusters=num_clusters)\n",
    "\n",
    "%time km.fit(tfidf_matrix)\n",
    "\n",
    "clusters = km.labels_.tolist()"
   ]
  },
  {
   "cell_type": "code",
   "execution_count": 45,
   "metadata": {},
   "outputs": [],
   "source": [
    "import pickle\n",
    "import joblib\n",
    "\n",
    "s = pickle.dumps(km)\n",
    "km2 = pickle.loads(s)\n",
    "\n",
    "clusters = km2.labels_.tolist()"
   ]
  },
  {
   "cell_type": "code",
   "execution_count": 46,
   "metadata": {},
   "outputs": [
    {
     "name": "stdout",
     "output_type": "stream",
     "text": [
      "<bound method NDFrame.head of     cluster                                              title  \\\n",
      "1         1  How do I undo the most recent local commits in...   \n",
      "1         1  How do I delete a Git branch locally and remot...   \n",
      "2         2  How do I remove a particular element from an a...   \n",
      "9         9  How do I find all files containing specific te...   \n",
      "0         0              How do I redirect to another webpage?   \n",
      "..      ...                                                ...   \n",
      "1         1              How to resolve merge conflicts in Git   \n",
      "5         5  How to change an element's class with JavaScript?   \n",
      "8         8  What does \"Could not find or load main class\" ...   \n",
      "0         0  How to align a <div> to the middle (horizontal...   \n",
      "3         3       How do I get the current date in JavaScript?   \n",
      "\n",
      "                                                  tag  view_count  \\\n",
      "1                    gitversion-controlgit-commitundo     8083391   \n",
      "1                             gitgit-branchgit-remote     7334016   \n",
      "2                                    javascriptarrays     5920663   \n",
      "9                          linuxtextgrepdirectoryfind     5890525   \n",
      "0                            javascriptjqueryredirect     5820050   \n",
      "..                                                ...         ...   \n",
      "1   gitgit-mergemerge-conflict-resolutiongit-merge...     2418738   \n",
      "5                                   javascripthtmldom     2411459   \n",
      "8                                       javaclassmain     2406218   \n",
      "0                              csshtmlalignmentcenter     2393043   \n",
      "3                                      javascriptdate     2385206   \n",
      "\n",
      "    answer_count  comment_count  favorite_count  score  \n",
      "1             80              9            6547  19971  \n",
      "1             38              2            5070  15730  \n",
      "2             81              6            1171   7382  \n",
      "9             42              6            2428   4710  \n",
      "0             58             10            2140   7728  \n",
      "..           ...            ...             ...    ...  \n",
      "1             34             13            1565   4503  \n",
      "5             29              4             704   2587  \n",
      "8             45              1             435   1221  \n",
      "0             27              0             185    791  \n",
      "3             46              9             345   2069  \n",
      "\n",
      "[100 rows x 8 columns]>\n"
     ]
    },
    {
     "data": {
      "text/plain": [
       "0    23\n",
       "1    13\n",
       "9    11\n",
       "2    11\n",
       "8    10\n",
       "4     9\n",
       "6     7\n",
       "5     6\n",
       "3     6\n",
       "7     4\n",
       "Name: cluster, dtype: int64"
      ]
     },
     "execution_count": 46,
     "metadata": {},
     "output_type": "execute_result"
    }
   ],
   "source": [
    "title_list = question_df['title'].values.tolist()\n",
    "tag_list = question_df['tags'].values.tolist()\n",
    "view_cnt_list = question_df['view_count'].values.tolist()\n",
    "answer_cnt_list = question_df['answer_count'].values.tolist()\n",
    "comment_cnt_list = question_df['comment_count'].values.tolist()\n",
    "favorite_cnt_list = question_df['favorite_count'].values.tolist()\n",
    "score_list = question_df['score'].values.tolist()\n",
    "\n",
    "#select title, accepted_answer_id, answer_count, comment_count, favorite_count, score, tags, view_count\n",
    "questions = {'cluster': clusters, 'title': title_list, 'tag': tag_list, 'view_count': view_cnt_list, 'answer_count': answer_cnt_list, 'comment_count': comment_cnt_list, 'favorite_count': favorite_cnt_list, 'score': score_list}\n",
    "\n",
    "frame = pd.DataFrame(questions, index = [clusters] , columns = ['cluster', 'title', 'tag', 'view_count', 'answer_count', 'comment_count', 'favorite_count', 'score'])\n",
    "print (frame.head)\n",
    "\n",
    "# number of quesions per cluster\n",
    "frame['cluster'].value_counts()"
   ]
  },
  {
   "cell_type": "code",
   "execution_count": 47,
   "metadata": {},
   "outputs": [
    {
     "data": {
      "text/plain": [
       "cluster\n",
       "0    68246487\n",
       "1    48599829\n",
       "2    37764371\n",
       "3    16471708\n",
       "4    27013184\n",
       "5    19846812\n",
       "6    24831683\n",
       "7    15568958\n",
       "8    34386112\n",
       "9    37719828\n",
       "Name: view_count, dtype: int64"
      ]
     },
     "execution_count": 47,
     "metadata": {},
     "output_type": "execute_result"
    }
   ],
   "source": [
    "grouped_view_cnt = frame['view_count'].groupby(frame['cluster'])\n",
    "grouped_view_cnt.sum()"
   ]
  },
  {
   "cell_type": "code",
   "execution_count": 48,
   "metadata": {},
   "outputs": [
    {
     "data": {
      "text/plain": [
       "cluster\n",
       "0    1214\n",
       "1     401\n",
       "2     456\n",
       "3     180\n",
       "4     284\n",
       "5     229\n",
       "6     218\n",
       "7     118\n",
       "8     255\n",
       "9     324\n",
       "Name: answer_count, dtype: int64"
      ]
     },
     "execution_count": 48,
     "metadata": {},
     "output_type": "execute_result"
    }
   ],
   "source": [
    "grouped_answer_cnt = frame['answer_count'].groupby(frame['cluster'])\n",
    "grouped_answer_cnt.sum()"
   ]
  },
  {
   "cell_type": "code",
   "execution_count": 54,
   "metadata": {},
   "outputs": [
    {
     "name": "stdout",
     "output_type": "stream",
     "text": [
      "Top terms per cluster:\n",
      "\n",
      "[[149 167  99 ... 132 131   0]\n",
      " [ 83 120  16 ... 138 137   0]\n",
      " [106  11 121 ... 142 141   0]\n",
      " ...\n",
      " [105  39 198 ... 146 145   0]\n",
      " [ 35  58 200 ... 143 142 114]\n",
      " [ 74  55 117 ... 128 127 229]]\n",
      "Cluster 0 words: php redirect instal center window page\n",
      "\n",
      "Cluster 0 titles: How do I redirect to another webpage?, How to horizontally center a <div>?, Iterate through a HashMap, Redirect from an HTML page, Add new keys to a dictionary?, How to replace all occurrences of a string?, How do I vertically center text with CSS?, Using global variables in a function, What is the best comment in source code you have ever encountered?, How do I install pip on Windows?, Initialization of an ArrayList in one line, How do I get PHP errors to display?, Determine installed PowerShell version, How can you find out which process is listening on a port on Windows?, Limiting floats to two decimal points, Get the full URL in PHP, How do I make a redirect in PHP?, RegEx match open tags except XHTML self-contained tags, What is the correct JSON content type?, How do I POST JSON data with Curl from a terminal/commandline to Test Spring REST?, What is a NullPointerException, and how do I fix it?, How to modify existing, unpushed commit messages?, How to align a <div> to the middle (horizontally/width) of the page,\n",
      "\n",
      "Cluster 1 words: git local branch repositori commit remot\n",
      "\n",
      "Cluster 1 titles: How do I undo the most recent local commits in Git?, How do I delete a Git branch locally and remotely?, How do I revert a Git repository to a previous commit?, How do I force \"git pull\" to overwrite local files?, How do I push a new local branch to a remote Git repository and track it too?, How do I clone a specific Git branch?, How do I undo 'git add' before commit?, Reset local repository branch to be just like remote repository HEAD, What is the difference between 'git pull' and 'git fetch'?, How do I rename a local Git branch?, How do I use 'git reset --hard HEAD' to revert to a previous commit?, How can I determine the URL that a local Git repository was originally cloned from?, How to resolve merge conflicts in Git,\n",
      "\n",
      "Cluster 2 words: javascript array loop timestamp java for-each\n",
      "\n",
      "Cluster 2 titles: How do I remove a particular element from an array in JavaScript?, How do I declare and initialize an array in Java?, Iterating over dictionaries using 'for' loops, For-each over an array in JavaScript?, Loop through an array in JavaScript, How to format a JavaScript date, How to append something to an array?, How to validate an email address in JavaScript, How do you get a timestamp in JavaScript?, How to check empty/undefined/null string in JavaScript?, How does the Java 'for each' loop work?,\n",
      "\n",
      "Cluster 3 words: current python time javascript extern date\n",
      "\n",
      "Cluster 3 titles: Calling an external command in Python, How to get the current time in Python, How can I make a time delay in Python?, Get the current URL with JavaScript?, Why can't Python parse this JSON data?, How do I get the current date in JavaScript?,\n",
      "\n",
      "Cluster 4 words: sql server valu select queri tabl\n",
      "\n",
      "Cluster 4 titles: How do I UPDATE from a SELECT in SQL Server?, How can I get query string values in JavaScript?, How do I perform an IF...THEN in an SQL SELECT?, SQL Server: CASE WHEN OR THEN ELSE END => the OR is not supported, Tab space instead of multiple non-breaking spaces (\"nbsp\")?, Add a column with a default value to an existing table in SQL Server, How to return only the Date from a SQL Server DateTime datatype, Finding duplicate values in a SQL table, Inserting multiple rows in a single SQL query?,\n",
      "\n",
      "Cluster 5 words: check jqueri checkbox element hidden set\n",
      "\n",
      "Cluster 5 titles: How do I check out a remote Git branch?, How to check whether a checkbox is checked in jQuery?, Setting \"checked\" for a checkbox with jQuery?, Check if a given key already exists in a dictionary, How do I check if an element is hidden in jQuery?, How to change an element's class with JavaScript?,\n",
      "\n",
      "Cluster 6 words: string convert int integ java datetim\n",
      "\n",
      "Cluster 6 titles: How do I convert a String to an int in Java?, How do I generate random integers within a specific range in Java?, How do I parse a string to a float or int?, How to concatenate string variables in Bash, Converting integer to string?, Easiest way to convert int to string in C++, Converting string into datetime,\n",
      "\n",
      "Cluster 7 words: java creat string split compar write\n",
      "\n",
      "Cluster 7 titles: How to create an HTML button that acts like a link?, How do I compare strings in Java?, How to split a string in Java, How do I create a file and write to it in Java?,\n",
      "\n",
      "Cluster 8 words: contain doe substr python string word\n",
      "\n",
      "Cluster 8 titles: How to check whether a string contains a substring in JavaScript?, How do I check if a string contains a specific word?, Why does my JavaScript code get a \"No 'Access-Control-Allow-Origin' header is present on the requested resource\" error when Postman does not?, Does Python have a string 'contains' substring method?, Finding the index of an item given a list containing it in Python, Regular expression to match a line that doesn't contain a word, What is the difference between Python's list methods append and extend?, How to substring a string in Python?, What does if __name__ == \"__main__\": do?, What does \"Could not find or load main class\" mean?,\n",
      "\n",
      "Cluster 9 words: file directori list exist check linux\n",
      "\n",
      "Cluster 9 titles: How do I find all files containing specific text on Linux?, How do I change permissions for a folder and all of its subfolders and files in one step in Linux?, Get selected value in dropdown list using JavaScript, How do I check whether a file exists without exceptions?, How do I list all files of a directory?, How to read a file line-by-line into a list?, How do I get the number of elements in a list?, How do I import an SQL file using the command line in MySQL?, How do I include a JavaScript file in another JavaScript file?, Check if a directory exists in a shell script, Find current directory and file's directory,\n",
      "\n"
     ]
    }
   ],
   "source": [
    "from __future__ import print_function\n",
    "\n",
    "print(\"Top terms per cluster:\")\n",
    "print()\n",
    "#sort cluster centers by proximity to centroid\n",
    "order_centroids = km2.cluster_centers_.argsort()[:, ::-1] \n",
    "print(order_centroids)\n",
    "\n",
    "for i in range(num_clusters):\n",
    "    print(\"Cluster %d words:\" % i, end='')\n",
    "    \n",
    "    for ind in order_centroids[i, :6]:\n",
    "        #print(\"ind=%d\" % ind)\n",
    "        #print(\"terms[ind]= %s\" % terms[ind])\n",
    "        print(' %s' % terms[ind], end='')\n",
    "        \n",
    "    print()\n",
    "    print()\n",
    "    \n",
    "    print(\"Cluster %d titles:\" % i, end='')\n",
    "    for title in frame.loc[i]['title'].values.tolist():\n",
    "        print(' %s,' % title, end='')\n",
    "    print()\n",
    "    print()\n"
   ]
  },
  {
   "cell_type": "code",
   "execution_count": null,
   "metadata": {},
   "outputs": [],
   "source": []
  },
  {
   "cell_type": "code",
   "execution_count": null,
   "metadata": {},
   "outputs": [],
   "source": []
  }
 ],
 "metadata": {
  "kernelspec": {
   "display_name": "Python 3",
   "language": "python",
   "name": "python3"
  },
  "language_info": {
   "codemirror_mode": {
    "name": "ipython",
    "version": 3
   },
   "file_extension": ".py",
   "mimetype": "text/x-python",
   "name": "python",
   "nbconvert_exporter": "python",
   "pygments_lexer": "ipython3",
   "version": "3.7.4"
  }
 },
 "nbformat": 4,
 "nbformat_minor": 4
}
